{
 "cells": [
  {
   "cell_type": "code",
   "execution_count": 1,
   "metadata": {},
   "outputs": [
    {
     "data": {
      "text/html": [
       "<div>\n",
       "<style scoped>\n",
       "    .dataframe tbody tr th:only-of-type {\n",
       "        vertical-align: middle;\n",
       "    }\n",
       "\n",
       "    .dataframe tbody tr th {\n",
       "        vertical-align: top;\n",
       "    }\n",
       "\n",
       "    .dataframe thead th {\n",
       "        text-align: right;\n",
       "    }\n",
       "</style>\n",
       "<table border=\"1\" class=\"dataframe\">\n",
       "  <thead>\n",
       "    <tr style=\"text-align: right;\">\n",
       "      <th></th>\n",
       "      <th>white</th>\n",
       "      <th>black</th>\n",
       "      <th>result</th>\n",
       "    </tr>\n",
       "  </thead>\n",
       "  <tbody>\n",
       "    <tr>\n",
       "      <th>0</th>\n",
       "      <td>carlsen89</td>\n",
       "      <td>goltrpoat</td>\n",
       "      <td>0.0</td>\n",
       "    </tr>\n",
       "    <tr>\n",
       "      <th>1</th>\n",
       "      <td>nunutsu</td>\n",
       "      <td>sergeblanc</td>\n",
       "      <td>0.0</td>\n",
       "    </tr>\n",
       "    <tr>\n",
       "      <th>2</th>\n",
       "      <td>Boss1</td>\n",
       "      <td>piongu</td>\n",
       "      <td>0.0</td>\n",
       "    </tr>\n",
       "    <tr>\n",
       "      <th>3</th>\n",
       "      <td>Melchisedech</td>\n",
       "      <td>nabov</td>\n",
       "      <td>1.0</td>\n",
       "    </tr>\n",
       "    <tr>\n",
       "      <th>4</th>\n",
       "      <td>bumblebee</td>\n",
       "      <td>Exodus_z</td>\n",
       "      <td>1.0</td>\n",
       "    </tr>\n",
       "  </tbody>\n",
       "</table>\n",
       "</div>"
      ],
      "text/plain": [
       "          white       black  result\n",
       "0     carlsen89   goltrpoat     0.0\n",
       "1       nunutsu  sergeblanc     0.0\n",
       "2         Boss1      piongu     0.0\n",
       "3  Melchisedech       nabov     1.0\n",
       "4     bumblebee    Exodus_z     1.0"
      ]
     },
     "execution_count": 1,
     "metadata": {},
     "output_type": "execute_result"
    }
   ],
   "source": [
    "import pandas as pd\n",
    "import torch\n",
    "\n",
    "df = pd.read_csv(\"../data/lichess_db_standard_rated_2014-12.csv\")\n",
    "df.head()\n"
   ]
  },
  {
   "cell_type": "code",
   "execution_count": 2,
   "metadata": {},
   "outputs": [],
   "source": [
    "# Node list\n",
    "node_list = pd.concat([df['white'], df['black']]).unique().tolist()\n",
    "num_node = len(node_list)\n",
    "node_dict = {player_id: node for node, player_id in enumerate(node_list)}"
   ]
  },
  {
   "cell_type": "code",
   "execution_count": 3,
   "metadata": {},
   "outputs": [],
   "source": [
    "# Initialize edge dictionary\n",
    "edge_dict = {}\n",
    "\n",
    "# Iterate over dataframe rows\n",
    "for idx, row in df.iterrows():\n",
    "    white = node_dict[row['white']]\n",
    "    black = node_dict[row['black']]\n",
    "    edge = (white, black)\n",
    "    \n",
    "    if edge not in edge_dict:\n",
    "        edge_dict[edge] = {\"win\": 0, \"lose\": 0, \"draw\": 0}\n",
    "    \n",
    "    if row['result'] == 1:\n",
    "        edge_dict[edge][\"win\"] += 1\n",
    "    elif row['result'] == 0:\n",
    "        edge_dict[edge][\"lose\"] += 1\n",
    "    elif row['result'] == 0.5:\n",
    "        edge_dict[edge][\"draw\"] += 1"
   ]
  },
  {
   "cell_type": "code",
   "execution_count": 4,
   "metadata": {},
   "outputs": [],
   "source": [
    "# Create edge_index tensor\n",
    "edge_index = torch.tensor([[white,black] for (white, black), _ in edge_dict.items()], dtype=torch.long).t().contiguous()\n",
    "# Create edge_attr tensor\n",
    "edge_attr = torch.tensor([[stats['win'], stats['draw'], stats['lose']] for _, stats in edge_dict.items()], dtype=torch.float)"
   ]
  },
  {
   "cell_type": "code",
   "execution_count": 5,
   "metadata": {},
   "outputs": [
    {
     "name": "stdout",
     "output_type": "stream",
     "text": [
      "torch.Size([2, 978358])\n",
      "torch.Size([978358, 3])\n"
     ]
    }
   ],
   "source": [
    "print(edge_index.shape)\n",
    "print(edge_attr.shape)"
   ]
  },
  {
   "cell_type": "code",
   "execution_count": 6,
   "metadata": {},
   "outputs": [],
   "source": [
    "torch.save({'edge_index': edge_index, 'edge_attr': edge_attr, 'num_node':num_node}, '../data/graph_data.pt')"
   ]
  },
  {
   "cell_type": "code",
   "execution_count": null,
   "metadata": {},
   "outputs": [],
   "source": [
    "df[\"white\"] = node_dict[df[\"white\"]]\n",
    "df[\"black\"] = node_dict[df[\"black\"]]\n",
    "df.head()"
   ]
  }
 ],
 "metadata": {
  "kernelspec": {
   "display_name": ".venv",
   "language": "python",
   "name": "python3"
  },
  "language_info": {
   "codemirror_mode": {
    "name": "ipython",
    "version": 3
   },
   "file_extension": ".py",
   "mimetype": "text/x-python",
   "name": "python",
   "nbconvert_exporter": "python",
   "pygments_lexer": "ipython3",
   "version": "3.8.10"
  },
  "orig_nbformat": 4
 },
 "nbformat": 4,
 "nbformat_minor": 2
}
